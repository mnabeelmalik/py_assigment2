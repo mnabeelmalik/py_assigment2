{
 "cells": [
  {
   "cell_type": "code",
   "execution_count": 4,
   "metadata": {},
   "outputs": [
    {
     "name": "stdout",
     "output_type": "stream",
     "text": [
      "Enter the marks of the first course: 88\n",
      "Enter the marks of the second course: 65\n",
      "Enter the marks of the third course: 75\n",
      "Enter the marks of the fourth course: 98\n",
      "Enter the marks of the fifth course: 65\n",
      "Marks Obtained 391 Percentage is: 78.2\n",
      "Grade: C\n"
     ]
    }
   ],
   "source": [
    "s1=int(input(\"Enter the marks of the first course: \"))\n",
    "s2=int(input(\"Enter the marks of the second course: \"))\n",
    "s3=int(input(\"Enter the marks of the third course: \"))\n",
    "s4=int(input(\"Enter the marks of the fourth course: \"))\n",
    "s5=int(input(\"Enter the marks of the fifth course: \"))\n",
    "total=(s1+s2+s3+s4+s5)\n",
    "per=(total/500)*100\n",
    "print (\"Marks Obtained \" + str(total) + \" Percentage is: \"+str(per))\n",
    "if(per>=90):\n",
    "    print(\"Grade: A\")\n",
    "elif((per>=80) and (per<90)):\n",
    "    print(\"Grade: B\")\n",
    "elif((per>=70) and (per<80)):\n",
    "    print(\"Grade: C\")\n",
    "elif((per>=60) and (per<70)):\n",
    "    print(\"Grade: D\")\n",
    "else:\n",
    "    print(\"Grade: F\")"
   ]
  },
  {
   "cell_type": "code",
   "execution_count": null,
   "metadata": {},
   "outputs": [],
   "source": []
  }
 ],
 "metadata": {
  "kernelspec": {
   "display_name": "Python 3",
   "language": "python",
   "name": "python3"
  },
  "language_info": {
   "codemirror_mode": {
    "name": "ipython",
    "version": 3
   },
   "file_extension": ".py",
   "mimetype": "text/x-python",
   "name": "python",
   "nbconvert_exporter": "python",
   "pygments_lexer": "ipython3",
   "version": "3.7.4"
  }
 },
 "nbformat": 4,
 "nbformat_minor": 2
}
