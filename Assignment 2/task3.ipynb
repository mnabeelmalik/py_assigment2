{
 "cells": [
  {
   "cell_type": "code",
   "execution_count": 1,
   "metadata": {},
   "outputs": [
    {
     "name": "stdout",
     "output_type": "stream",
     "text": [
      "The list are :[5, 9, 10, 11, 12]\n",
      "Length of list are : 5\n"
     ]
    }
   ],
   "source": [
    "my_list = [ 5, 9, 10, 11, 12 ] \n",
    "\n",
    "print (\"The list are :\" + str(my_list)) \n",
    "  \n",
    "cnt = 0\n",
    "for a in my_list:     \n",
    "    cnt = cnt + 1\n",
    "print (\"Length of list are : \" + str(cnt)) "
   ]
  },
  {
   "cell_type": "code",
   "execution_count": null,
   "metadata": {},
   "outputs": [],
   "source": []
  }
 ],
 "metadata": {
  "kernelspec": {
   "display_name": "Python 3",
   "language": "python",
   "name": "python3"
  },
  "language_info": {
   "codemirror_mode": {
    "name": "ipython",
    "version": 3
   },
   "file_extension": ".py",
   "mimetype": "text/x-python",
   "name": "python",
   "nbconvert_exporter": "python",
   "pygments_lexer": "ipython3",
   "version": "3.7.4"
  }
 },
 "nbformat": 4,
 "nbformat_minor": 2
}
